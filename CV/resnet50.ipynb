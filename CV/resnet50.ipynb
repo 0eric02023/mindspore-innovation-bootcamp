{
 "cells": [
  {
   "cell_type": "markdown",
   "id": "64dca51c",
   "metadata": {
    "slideshow": {
     "slide_type": "slide"
    }
   },
   "source": [
    "<img src=\"./assets/resnet50_cover.png\" alt=\"cover\" align=center/>"
   ]
  },
  {
   "cell_type": "markdown",
   "id": "34b8dff8",
   "metadata": {
    "slideshow": {
     "slide_type": "slide"
    }
   },
   "source": [
    "# 图像分类\n",
    "\n",
    "<img src=\"./assets/resnet50_image_classification.png\" width=\"800\" alt=\"image-classification\" align=center/>\n",
    "\n",
    "> 图片来源：https://en.wikipedia.org/wiki/Yellow-headed_blackbird\n",
    "\n",
    "图像分类是最基础的计算机视觉应用，属于有监督学习类别，如给定一张图像(猫、狗、飞机、汽车等等)，判断图像所属的类别。\n",
    "\n",
    "本章将介绍使用ResNet50网络对CIFAR-10数据集进行分类。"
   ]
  },
  {
   "cell_type": "markdown",
   "id": "5a2056dd",
   "metadata": {
    "slideshow": {
     "slide_type": "slide"
    }
   },
   "source": [
    "<img src=\"./assets/resnet50_deep_learning_training.png\" width=\"800\" alt=\"deep-learning-training\" align=center/>\n",
    "\n",
    "- 正向计算结果（logits）\n",
    "- 计算结果（logits）与正确标签（targets）的误差\n",
    "- 反向传播获取梯度\n",
    "- 更新梯度到网络权重"
   ]
  },
  {
   "cell_type": "markdown",
   "id": "536b78f8",
   "metadata": {
    "slideshow": {
     "slide_type": "slide"
    }
   },
   "source": [
    "# 深度学习全流程\n",
    "\n",
    "- <font color=#1E77CC>数据预处理： 将图像、文本等数据处理为可以计算的Tensor</font>\n",
    "- 神经网络构建： 使用框架API， 搭建神经网络\n",
    "- 模型训练： 定义模型**训练逻辑**， 遍历**训练集**进行训练\n",
    "- 模型评估： 使用训练好的模型， 在**测试集**评估效果\n",
    "- 模型推理： 将训练好的模型部署， 输入新数据获得预测结果"
   ]
  },
  {
   "cell_type": "markdown",
   "id": "734e93d9",
   "metadata": {
    "slideshow": {
     "slide_type": "slide"
    }
   },
   "source": [
    "# 数据预处理\n",
    "\n",
    "<img src=\"./assets/resnet50_data_pipeline.png\" align=center>"
   ]
  },
  {
   "cell_type": "markdown",
   "id": "44844c42",
   "metadata": {
    "slideshow": {
     "slide_type": "subslide"
    }
   },
   "source": [
    "## 数据集下载\n",
    "\n",
    "本次我们使用CIFAR-10数据集。它共有60000张32*32的彩色图像，分为10个类别，每类有6000张图，数据集一共有50000张训练图片和10000张评估图片。\n",
    "\n",
    "<img src=\"./assets/resnet50_cifar10.png\" width=\"500\" alt=\"image-classification\" align=center/>\n",
    "\n",
    "首先，如下示例使用`download`接口下载并解压，目前仅支持解析二进制版本的CIFAR-10文件（CIFAR-10 binary version）。"
   ]
  },
  {
   "cell_type": "code",
   "execution_count": 30,
   "id": "8f3c8718",
   "metadata": {
    "slideshow": {
     "slide_type": "subslide"
    }
   },
   "outputs": [
    {
     "name": "stdout",
     "output_type": "stream",
     "text": [
      "Replace is False and data exists, so doing nothing. Use replace=True to re-download the data.\n"
     ]
    },
    {
     "data": {
      "text/plain": [
       "'./datasets-cifar10-bin'"
      ]
     },
     "execution_count": 30,
     "metadata": {},
     "output_type": "execute_result"
    }
   ],
   "source": [
    "from download import download\n",
    "\n",
    "url = \"https://mindspore-website.obs.cn-north-4.myhuaweicloud.com/notebook/datasets/cifar-10-binary.tar.gz\"\n",
    "\n",
    "download(url, \"./datasets-cifar10-bin\", kind=\"tar.gz\")"
   ]
  },
  {
   "cell_type": "markdown",
   "id": "7bbd259a",
   "metadata": {
    "slideshow": {
     "slide_type": "subslide"
    }
   },
   "source": [
    "## 数据集预处理相关操作\n",
    "\n",
    "使用`mindspore.dataset.Cifar10Dataset`接口来加载数据集，并进行相关图像增强操作。"
   ]
  },
  {
   "cell_type": "code",
   "execution_count": 31,
   "id": "b8697127",
   "metadata": {
    "slideshow": {
     "slide_type": "subslide"
    }
   },
   "outputs": [],
   "source": [
    "import mindspore as ms\n",
    "import mindspore.dataset as ds\n",
    "import mindspore.dataset.vision as vision\n",
    "import mindspore.dataset.transforms as transforms\n",
    "from mindspore import dtype as mstype\n",
    "\n",
    "data_dir = \"./datasets-cifar10-bin/cifar-10-batches-bin\"  # 数据集根目录\n",
    "batch_size = 256  # 批量大小\n",
    "image_size = 32  # 训练图像空间大小\n",
    "workers = 4  # 并行线程个数\n",
    "num_classes = 10  # 分类数量"
   ]
  },
  {
   "cell_type": "code",
   "execution_count": 32,
   "id": "bc6e09f5",
   "metadata": {
    "slideshow": {
     "slide_type": "subslide"
    }
   },
   "outputs": [],
   "source": [
    "def create_dataset_cifar10(dataset_dir, usage, resize, batch_size, workers):\n",
    "    \n",
    "    # 数据集加载与操作\n",
    "    data_set = ds.Cifar10Dataset(dataset_dir=dataset_dir,\n",
    "                                 usage=usage,\n",
    "                                 num_parallel_workers=workers,\n",
    "                                 shuffle=True)\n",
    "\n",
    "    trans = []\n",
    "    if usage == \"train\":\n",
    "        trans += [\n",
    "            vision.RandomCrop((32, 32), (4, 4, 4, 4)),\n",
    "            vision.RandomHorizontalFlip(prob=0.5)\n",
    "        ]\n",
    "\n",
    "    trans += [\n",
    "        vision.Resize(resize),\n",
    "        vision.Rescale(1.0 / 255.0, 0.0),\n",
    "        vision.Normalize([0.4914, 0.4822, 0.4465], [0.2023, 0.1994, 0.2010]),\n",
    "        vision.HWC2CHW()\n",
    "    ]\n",
    "\n",
    "    target_trans = transforms.TypeCast(mstype.int32)\n",
    "\n",
    "    # 数据集样本增强\n",
    "    data_set = data_set.map(operations=trans,\n",
    "                            input_columns='image',\n",
    "                            num_parallel_workers=workers)\n",
    "\n",
    "    data_set = data_set.map(operations=target_trans,\n",
    "                            input_columns='label',\n",
    "                            num_parallel_workers=workers)\n",
    "\n",
    "    # 批量操作\n",
    "    data_set = data_set.batch(batch_size)\n",
    "\n",
    "    return data_set"
   ]
  },
  {
   "cell_type": "code",
   "execution_count": 33,
   "id": "3455191a",
   "metadata": {
    "slideshow": {
     "slide_type": "subslide"
    }
   },
   "outputs": [
    {
     "name": "stdout",
     "output_type": "stream",
     "text": [
      "size of training dataset = 196\n",
      "size of validation dataset = 40\n"
     ]
    }
   ],
   "source": [
    "# 获取处理后的训练与测试数据集\n",
    "\n",
    "dataset_train = create_dataset_cifar10(dataset_dir=data_dir,\n",
    "                                       usage=\"train\",\n",
    "                                       resize=image_size,\n",
    "                                       batch_size=batch_size,\n",
    "                                       workers=workers)\n",
    "step_size_train = dataset_train.get_dataset_size()\n",
    "\n",
    "dataset_val = create_dataset_cifar10(dataset_dir=data_dir,\n",
    "                                     usage=\"test\",\n",
    "                                     resize=image_size,\n",
    "                                     batch_size=batch_size,\n",
    "                                     workers=workers)\n",
    "step_size_val = dataset_val.get_dataset_size()\n",
    "\n",
    "print(f\"size of training dataset = {step_size_train}\")\n",
    "print(f\"size of validation dataset = {step_size_val}\")\n",
    "\n",
    "# 创建迭代器\n",
    "data_loader_train = dataset_train.create_tuple_iterator(num_epochs=num_epochs)\n",
    "data_loader_val = dataset_val.create_tuple_iterator(num_epochs=num_epochs)"
   ]
  },
  {
   "cell_type": "markdown",
   "id": "9f730f35",
   "metadata": {
    "slideshow": {
     "slide_type": "subslide"
    }
   },
   "source": [
    "对CIFAR-10训练数据集进行可视化。"
   ]
  },
  {
   "cell_type": "code",
   "execution_count": 34,
   "id": "548ced78",
   "metadata": {
    "slideshow": {
     "slide_type": "subslide"
    }
   },
   "outputs": [
    {
     "name": "stdout",
     "output_type": "stream",
     "text": [
      "Image shape: (256, 3, 32, 32), Label shape: (256,)\n",
      "Labels: [9 7 2 1 0 8]\n"
     ]
    },
    {
     "data": {
      "image/png": "[encoded data removed]",
      "text/plain": [
       "<Figure size 640x480 with 6 Axes>"
      ]
     },
     "metadata": {},
     "output_type": "display_data"
    }
   ],
   "source": [
    "import matplotlib.pyplot as plt\n",
    "import numpy as np\n",
    "\n",
    "data_iter = next(dataset_train.create_dict_iterator())\n",
    "\n",
    "images = data_iter[\"image\"].asnumpy()\n",
    "labels = data_iter[\"label\"].asnumpy()\n",
    "print(f\"Image shape: {images.shape}, Label shape: {labels.shape}\")\n",
    "\n",
    "# 训练数据集中，前六张图片所对应的标签\n",
    "print(f\"Labels: {labels[:6]}\")\n",
    "\n",
    "classes = []\n",
    "\n",
    "with open(data_dir + \"/batches.meta.txt\", \"r\") as f:\n",
    "    for line in f:\n",
    "        line = line.rstrip()\n",
    "        if line:\n",
    "            classes.append(line)\n",
    "\n",
    "# 训练数据集的前六张图片\n",
    "plt.figure()\n",
    "for i in range(6):\n",
    "    plt.subplot(2, 3, i + 1)\n",
    "    image_trans = np.transpose(images[i], (1, 2, 0))\n",
    "    mean = np.array([0.4914, 0.4822, 0.4465])\n",
    "    std = np.array([0.2023, 0.1994, 0.2010])\n",
    "    image_trans = std * image_trans + mean\n",
    "    image_trans = np.clip(image_trans, 0, 1)\n",
    "    plt.title(f\"{classes[labels[i]]}\")\n",
    "    plt.imshow(image_trans)\n",
    "    plt.axis(\"off\")\n",
    "plt.show()"
   ]
  },
  {
   "cell_type": "markdown",
   "id": "e9440d36",
   "metadata": {
    "slideshow": {
     "slide_type": "slide"
    }
   },
   "source": [
    "# 深度学习全流程\n",
    "\n",
    "- 数据预处理： 将图像、文本等数据处理为**可以计算的Tensor**\n",
    "- <font color=#1E77CC>神经网络构建： 使用框架API， 搭建神经网络<font>\n",
    "- 模型训练： 定义模型**训练逻辑**， 遍历**训练集**进行训练\n",
    "- 模型评估： 使用训练好的模型， 在**测试集**评估效果\n",
    "- 模型推理： 将训练好的模型部署， 输入新数据获得预测结果"
   ]
  },
  {
   "cell_type": "markdown",
   "id": "aa350b0b",
   "metadata": {
    "slideshow": {
     "slide_type": "subslide"
    }
   },
   "source": [
    "# 神经网络构建\n",
    "\n",
    "- \\[ what | 构建什么 \\]：ReNet网络\n",
    "- \\[ how | 怎样构建 \\]：面向对象式编程"
   ]
  },
  {
   "cell_type": "markdown",
   "id": "c920e75a",
   "metadata": {
    "slideshow": {
     "slide_type": "subslide"
    }
   },
   "source": [
    "## ResNet网络\n",
    "\n",
    "ResNet网络提出了 **残差网络结构(Residual Network)** 来减轻**退化问题**。\n",
    "\n",
    "- **退化问题**：随着网络层数变深，网络表现反而不如浅层网络\n",
    "\n",
    "<img src=\"./assets/resnet50_net_degradation.png\" alt=\"net-degradation\" align=center/>"
   ]
  },
  {
   "cell_type": "markdown",
   "id": "c82ecb38",
   "metadata": {
    "slideshow": {
     "slide_type": "subslide"
    }
   },
   "source": [
    "- **残差网络结构**：$F(x) \\rightarrow F(x)+x$\n",
    "\n",
    "<img src=\"./assets/resnet50_resnet.png\" align=center/>\n",
    "\n",
    "ResNet50就是由这样多个残差块堆叠而成的。"
   ]
  },
  {
   "cell_type": "markdown",
   "id": "24c4d2c6",
   "metadata": {
    "slideshow": {
     "slide_type": "slide"
    }
   },
   "source": [
    "## 面向对象编程（OOP）\n",
    "\n",
    "MindSpore2.0采取OOP+FP混合式编程，其中在网络构建中使用了面向对象式编程（OOP）。\n",
    "\n",
    "$$\\text{构造类} \\rightarrow \\text{实例化对象} \\rightarrow \\text{对象调用}$$\n",
    "\n",
    "<img src=\"./assets/resnet50_oop.png\" width=\"800\" align=center/>\n",
    "\n",
    "- 继承`nn.Cell`构造网络结构\n",
    "- 在`__init__`只能实例化神经网络\n",
    "- 在`construct`方法中书写正向计算逻辑"
   ]
  },
  {
   "cell_type": "markdown",
   "id": "772f0108",
   "metadata": {
    "slideshow": {
     "slide_type": "subslide"
    }
   },
   "source": [
    "## 构建残差块 —— Building Block\n",
    "\n",
    "<img src=\"./assets/resnet50_building_block.png\" width=\"500\" align=center/>\n",
    "\n",
    "如下代码定义`ResidualBlockBase`类实现Building Block结构。"
   ]
  },
  {
   "cell_type": "code",
   "execution_count": 35,
   "id": "f1300589",
   "metadata": {
    "slideshow": {
     "slide_type": "subslide"
    }
   },
   "outputs": [],
   "source": [
    "from typing import Type, Union, List, Optional\n",
    "import mindspore.nn as nn\n",
    "from mindspore.common.initializer import Normal\n",
    "\n",
    "# 初始化卷积层与BatchNorm的参数\n",
    "weight_init = Normal(mean=0, sigma=0.02)\n",
    "gamma_init = Normal(mean=1, sigma=0.02)\n",
    "\n",
    "class ResidualBlockBase(nn.Cell):\n",
    "    expansion: int = 1  # 最后一个卷积核数量与第一个卷积核数量相等\n",
    "\n",
    "    def __init__(self, in_channel: int, out_channel: int,\n",
    "                 stride: int = 1, norm: Optional[nn.Cell] = None,\n",
    "                 down_sample: Optional[nn.Cell] = None) -> None:\n",
    "        super(ResidualBlockBase, self).__init__()\n",
    "        if not norm:\n",
    "            self.norm = nn.BatchNorm2d(out_channel)\n",
    "        else:\n",
    "            self.norm = norm\n",
    "\n",
    "        self.conv1 = nn.Conv2d(in_channel, out_channel,\n",
    "                               kernel_size=3, stride=stride,\n",
    "                               weight_init=weight_init)\n",
    "        self.conv2 = nn.Conv2d(in_channel, out_channel,\n",
    "                               kernel_size=3, weight_init=weight_init)\n",
    "        self.relu = nn.ReLU()\n",
    "        self.down_sample = down_sample\n",
    "\n",
    "    def construct(self, x):\n",
    "        \"\"\"ResidualBlockBase construct.\"\"\"\n",
    "        identity = x  # shortcuts分支\n",
    "\n",
    "        out = self.conv1(x)  # 主分支第一层：3*3卷积层\n",
    "        out = self.norm(out)\n",
    "        out = self.relu(out)\n",
    "        out = self.conv2(out)  # 主分支第二层：3*3卷积层\n",
    "        out = self.norm(out)\n",
    "\n",
    "        if self.down_sample is not None:\n",
    "            identity = self.down_sample(x)\n",
    "        out += identity  # 输出为主分支与shortcuts之和\n",
    "        out = self.relu(out)\n",
    "\n",
    "        return out"
   ]
  },
  {
   "cell_type": "markdown",
   "id": "83882913",
   "metadata": {
    "slideshow": {
     "slide_type": "subslide"
    }
   },
   "source": [
    "## 构建残差块 —— BottleNeck\n",
    "\n",
    "在输入相同的情况下Bottleneck结构相对Building Block结构的参数数量更少，更适合层数较深的网络，ResNet50使用的残差结构就是Bottleneck。\n",
    "\n",
    "<img src=\"./assets/resnet50_bottleneck.png\" width=\"800\" align=center/>\n",
    "\n",
    "如下代码定义`ResidualBlock`类实现Bottleneck结构。"
   ]
  },
  {
   "cell_type": "code",
   "execution_count": 36,
   "id": "70e16881",
   "metadata": {
    "slideshow": {
     "slide_type": "subslide"
    }
   },
   "outputs": [],
   "source": [
    "class ResidualBlock(nn.Cell):\n",
    "    expansion = 4  # 最后一个卷积核的数量是第一个卷积核数量的4倍\n",
    "\n",
    "    def __init__(self, in_channel: int, out_channel: int,\n",
    "                 stride: int = 1, down_sample: Optional[nn.Cell] = None) -> None:\n",
    "        super(ResidualBlock, self).__init__()\n",
    "\n",
    "        self.conv1 = nn.Conv2d(in_channel, out_channel,\n",
    "                               kernel_size=1, weight_init=weight_init)\n",
    "        self.norm1 = nn.BatchNorm2d(out_channel)\n",
    "        self.conv2 = nn.Conv2d(out_channel, out_channel,\n",
    "                               kernel_size=3, stride=stride,\n",
    "                               weight_init=weight_init)\n",
    "        self.norm2 = nn.BatchNorm2d(out_channel)\n",
    "        self.conv3 = nn.Conv2d(out_channel, out_channel * self.expansion,\n",
    "                               kernel_size=1, weight_init=weight_init)\n",
    "        self.norm3 = nn.BatchNorm2d(out_channel * self.expansion)\n",
    "\n",
    "        self.relu = nn.ReLU()\n",
    "        self.down_sample = down_sample\n",
    "\n",
    "    def construct(self, x):\n",
    "\n",
    "        identity = x  # shortscuts分支\n",
    "\n",
    "        out = self.conv1(x)  # 主分支第一层：1*1卷积层\n",
    "        out = self.norm1(out)\n",
    "        out = self.relu(out)\n",
    "        out = self.conv2(out)  # 主分支第二层：3*3卷积层\n",
    "        out = self.norm2(out)\n",
    "        out = self.relu(out)\n",
    "        out = self.conv3(out)  # 主分支第三层：1*1卷积层\n",
    "        out = self.norm3(out)\n",
    "\n",
    "        if self.down_sample is not None:\n",
    "            identity = self.down_sample(x)\n",
    "\n",
    "        out += identity  # 输出为主分支与shortcuts之和\n",
    "        out = self.relu(out)\n",
    "\n",
    "        return out"
   ]
  },
  {
   "cell_type": "markdown",
   "id": "fa0d63f1",
   "metadata": {
    "slideshow": {
     "slide_type": "subslide"
    }
   },
   "source": [
    "## 堆叠残差块\n",
    "\n",
    "![resnet-layer](https://mindspore-website.obs.cn-north-4.myhuaweicloud.com/website-images/r2.0/tutorials/application/source_zh_cn/cv/images/resnet_2.png)\n",
    "\n",
    "如下示例定义`make_layer`实现残差块的构建，其参数如下所示:\n",
    "\n",
    "+ `last_out_channel`：上一个残差网络输出的通道数。\n",
    "+ `block`：残差网络的类别，分别为`ResidualBlockBase`和`ResidualBlock`。\n",
    "+ `channel`：残差网络输入的通道数。\n",
    "+ `block_nums`：残差网络块堆叠的个数。\n",
    "+ `stride`：卷积移动的步幅。"
   ]
  },
  {
   "cell_type": "code",
   "execution_count": 37,
   "id": "9666b910",
   "metadata": {
    "slideshow": {
     "slide_type": "subslide"
    }
   },
   "outputs": [],
   "source": [
    "def make_layer(last_out_channel, block: Type[Union[ResidualBlockBase, ResidualBlock]],\n",
    "               channel: int, block_nums: int, stride: int = 1):\n",
    "    down_sample = None  # shortcuts分支\n",
    "\n",
    "    if stride != 1 or last_out_channel != channel * block.expansion:\n",
    "\n",
    "        down_sample = nn.SequentialCell([\n",
    "            nn.Conv2d(last_out_channel, channel * block.expansion,\n",
    "                      kernel_size=1, stride=stride, weight_init=weight_init),\n",
    "            nn.BatchNorm2d(channel * block.expansion, gamma_init=gamma_init)\n",
    "        ])\n",
    "\n",
    "    layers = []\n",
    "    layers.append(block(last_out_channel, channel, stride=stride, down_sample=down_sample))\n",
    "\n",
    "    in_channel = channel * block.expansion\n",
    "    # 堆叠残差网络\n",
    "    for _ in range(1, block_nums):\n",
    "\n",
    "        layers.append(block(in_channel, channel))\n",
    "\n",
    "    return nn.SequentialCell(layers)"
   ]
  },
  {
   "cell_type": "markdown",
   "id": "f4fe76ea",
   "metadata": {
    "slideshow": {
     "slide_type": "subslide"
    }
   },
   "source": [
    "主分支与shortcuts输出的特征矩阵相加时，需要保证主分支与shortcuts输出的特征矩阵shape相同。\n",
    "\n",
    "如果主分支与shortcuts输出的特征矩阵shape不相同，如输出channel是输入channel的一倍时，shortcuts上需要使用数量与输出channel相等，大小为$1\\times1$的卷积核进行卷积操作；若输出的图像较输入图像缩小一倍，则要设置shortcuts中卷积操作中的`stride`为2，主分支第二层卷积操作的`stride`也需设置为2。\n",
    "\n",
    "<img src=\"./assets/resnet50_downsample.png\" width=\"800\" align=center/>"
   ]
  },
  {
   "cell_type": "markdown",
   "id": "05c49d65",
   "metadata": {
    "slideshow": {
     "slide_type": "subslide"
    }
   },
   "source": [
    "## 构建ResNet50网络\n",
    "\n",
    "ResNet50网络共有5个卷积结构，一个平均池化层，一个全连接层，以CIFAR-10数据集为例：\n",
    "\n",
    "+ **conv1**：输入图片大小为$32\\times32$，输入channel为3。首先经过一个卷积核数量为64，卷积核大小为$7\\times7$，stride为2的卷积层；然后通过一个Batch Normalization层；最后通过Reul激活函数。该层输出feature map大小为$16\\times16$，输出channel为64。\n",
    "+ **conv2_x**：输入feature map大小为$16\\times16$，输入channel为64。首先经过一个卷积核大小为$3\\times3$，stride为2的最大下采样池化操作；然后堆叠3个$[1\\times1，64；3\\times3，64；1\\times1，256]$结构的Bottleneck。该层输出feature map大小为$8\\times8$，输出channel为256。\n",
    "+ **conv3_x**：输入feature map大小为$8\\times8$，输入channel为256。该层堆叠4个[1×1，128；3×3，128；1×1，512]结构的Bottleneck。该层输出feature map大小为$4\\times4$，输出channel为512。\n",
    "+ **conv4_x**：输入feature map大小为$4\\times4$，输入channel为512。该层堆叠6个[1×1，256；3×3，256；1×1，1024]结构的Bottleneck。该层输出feature map大小为$2\\times2$，输出channel为1024。\n",
    "+ **conv5_x**：输入feature map大小为$2\\times2$，输入channel为1024。该层堆叠3个[1×1，512；3×3，512；1×1，2048]结构的Bottleneck。该层输出feature map大小为$1\\times1$，输出channel为2048。\n",
    "+ **average pool & fc**：输入channel为2048，输出channel为分类的类别数。\n",
    "\n",
    "如下示例代码实现ResNet50模型的构建，通过用调函数`resnet50`即可构建ResNet50模型，函数`resnet50`参数如下：\n",
    "\n",
    "+ `num_classes`：分类的类别数，默认类别数为1000。\n",
    "+ `pretrained`：下载对应的训练模型，并加载预训练模型中的参数到网络中。"
   ]
  },
  {
   "cell_type": "code",
   "execution_count": 38,
   "id": "f3fea5e4",
   "metadata": {
    "slideshow": {
     "slide_type": "subslide"
    }
   },
   "outputs": [],
   "source": [
    "class ResNet(nn.Cell):\n",
    "    def __init__(self, block: Type[Union[ResidualBlockBase, ResidualBlock]],\n",
    "                 layer_nums: List[int], num_classes: int, input_channel: int) -> None:\n",
    "        super(ResNet, self).__init__()\n",
    "\n",
    "        self.relu = nn.ReLU()\n",
    "        # 第一个卷积层，输入channel为3（彩色图像），输出channel为64\n",
    "        self.conv1 = nn.Conv2d(3, 64, kernel_size=7, stride=2, weight_init=weight_init)\n",
    "        self.norm = nn.BatchNorm2d(64)\n",
    "        # 最大池化层，缩小图片的尺寸\n",
    "        self.max_pool = nn.MaxPool2d(kernel_size=3, stride=2, pad_mode='same')\n",
    "        # 各个残差网络结构块定义\n",
    "        self.layer1 = make_layer(64, block, 64, layer_nums[0])\n",
    "        self.layer2 = make_layer(64 * block.expansion, block, 128, layer_nums[1], stride=2)\n",
    "        self.layer3 = make_layer(128 * block.expansion, block, 256, layer_nums[2], stride=2)\n",
    "        self.layer4 = make_layer(256 * block.expansion, block, 512, layer_nums[3], stride=2)\n",
    "        # 平均池化层\n",
    "        self.avg_pool = nn.AvgPool2d()\n",
    "        # flattern层\n",
    "        self.flatten = nn.Flatten()\n",
    "        # 全连接层\n",
    "        self.fc = nn.Dense(in_channels=input_channel, out_channels=num_classes)\n",
    "\n",
    "    def construct(self, x):\n",
    "\n",
    "        x = self.conv1(x)\n",
    "        x = self.norm(x)\n",
    "        x = self.relu(x)\n",
    "        x = self.max_pool(x)\n",
    "\n",
    "        x = self.layer1(x)\n",
    "        x = self.layer2(x)\n",
    "        x = self.layer3(x)\n",
    "        x = self.layer4(x)\n",
    "\n",
    "        x = self.avg_pool(x)\n",
    "        x = self.flatten(x)\n",
    "        x = self.fc(x)\n",
    "\n",
    "        return x"
   ]
  },
  {
   "cell_type": "markdown",
   "id": "01de0b8b",
   "metadata": {},
   "source": [
    "在本任务中，我们并未从头训练一个全新的模型；而是通过`load_checkpoint`、`load_param_intp_net`加载一个训练好的模型参数，并根据实际任务进行微调（fine-tune）。"
   ]
  },
  {
   "cell_type": "code",
   "execution_count": 39,
   "id": "b558208a",
   "metadata": {
    "slideshow": {
     "slide_type": "subslide"
    }
   },
   "outputs": [],
   "source": [
    "from mindspore import load_checkpoint, load_param_into_net\n",
    "\n",
    "def _resnet(model_url: str, block: Type[Union[ResidualBlockBase, ResidualBlock]],\n",
    "            layers: List[int], num_classes: int, pretrained: bool, pretrained_ckpt: str,\n",
    "            input_channel: int):\n",
    "    model = ResNet(block, layers, num_classes, input_channel)\n",
    "\n",
    "    if pretrained:\n",
    "        # 加载预训练模型\n",
    "        download(url=model_url, path=pretrained_ckpt)\n",
    "        param_dict = load_checkpoint(pretrained_ckpt)\n",
    "        load_param_into_net(model, param_dict)\n",
    "\n",
    "    return model\n",
    "\n",
    "\n",
    "def resnet50(num_classes: int = 1000, pretrained: bool = False):\n",
    "    \"ResNet50模型\"\n",
    "    resnet50_url = \"https://obs.dualstack.cn-north-4.myhuaweicloud.com/mindspore-website/notebook/models/application/resnet50_224_new.ckpt\"\n",
    "    resnet50_ckpt = \"./LoadPretrainedModel/resnet50_224_new.ckpt\"\n",
    "    return _resnet(resnet50_url, ResidualBlock, [3, 4, 6, 3], num_classes,\n",
    "                   pretrained, resnet50_ckpt, 2048)"
   ]
  },
  {
   "cell_type": "markdown",
   "id": "f83898c1",
   "metadata": {
    "slideshow": {
     "slide_type": "subslide"
    }
   },
   "source": [
    "## 网络实例化\n",
    "\n",
    "调用`resnet50`构造ResNet50模型，并设置`pretrained`参数为True，将会自动下载ResNet50预训练模型，并加载预训练模型中的参数到网络中。\n",
    "\n",
    "由于预训练模型全连接层（fc）的输出大小（对应参数`num_classes`）为1000， 为了成功加载预训练权重，我们将模型的全连接输出大小设置为默认的1000。CIFAR10数据集共有10个分类，在使用该数据集进行训练时，需要将加载好预训练权重的模型全连接层输出大小重置为10。"
   ]
  },
  {
   "cell_type": "code",
   "execution_count": 40,
   "id": "2211497f",
   "metadata": {
    "slideshow": {
     "slide_type": "subslide"
    }
   },
   "outputs": [
    {
     "name": "stdout",
     "output_type": "stream",
     "text": [
      "Replace is False and data exists, so doing nothing. Use replace=True to re-download the data.\n"
     ]
    }
   ],
   "source": [
    "# ResNet50网络实例化\n",
    "network = resnet50(pretrained=True)\n",
    "\n",
    "# 全连接层输入层的大小\n",
    "in_channel = network.fc.in_channels\n",
    "fc = nn.Dense(in_channels=in_channel, out_channels=10)\n",
    "# 重置全连接层\n",
    "network.fc = fc"
   ]
  },
  {
   "cell_type": "markdown",
   "id": "50e0a86b",
   "metadata": {
    "slideshow": {
     "slide_type": "slide"
    }
   },
   "source": [
    "# 深度学习全流程\n",
    "\n",
    "- 数据预处理： 将图像、文本等数据处理为**可以计算的Tensor**\n",
    "- 神经网络构建： 使用框架API， 搭建神经网络\n",
    "- <font color=#1E77CC>模型训练： 定义模型训练逻辑， 遍历训练集进行训练<font>\n",
    "- <font color=#1E77CC>模型评估： 使用训练好的模型， 在测试集评估效果<font>\n",
    "- 模型推理： 将训练好的模型部署， 输入新数据获得预测结果"
   ]
  },
  {
   "cell_type": "markdown",
   "id": "78bbae64",
   "metadata": {
    "slideshow": {
     "slide_type": "slide"
    }
   },
   "source": [
    "# 模型训练\n",
    "\n",
    "## Parameter and Hyper-parameter\n",
    "\n",
    "- **模型参数（parameter）**：神经网络需要从数据中学习和估计得到，需要训练的参数矩阵或向量，在模型定义时采用随机初始化，通常是nn层内的weight/bias/gamma/beta等属性。\n",
    "- **超参数（Hyper-Parameter）**：需要人为设定的调优参数。如hidden size，learning rate，number of layers，epochs/steps"
   ]
  },
  {
   "cell_type": "code",
   "execution_count": 41,
   "id": "72b9f6ed",
   "metadata": {
    "slideshow": {
     "slide_type": "subslide"
    }
   },
   "outputs": [
    {
     "name": "stdout",
     "output_type": "stream",
     "text": [
      "Parameter (name=conv1.weight, shape=(64, 3, 7, 7), dtype=Float32, requires_grad=True)\n",
      "Parameter (name=norm.moving_mean, shape=(64,), dtype=Float32, requires_grad=False)\n",
      "Parameter (name=norm.moving_variance, shape=(64,), dtype=Float32, requires_grad=False)\n",
      "Parameter (name=norm.gamma, shape=(64,), dtype=Float32, requires_grad=True)\n",
      "Parameter (name=norm.beta, shape=(64,), dtype=Float32, requires_grad=True)\n",
      "Parameter (name=layer1.0.conv1.weight, shape=(64, 64, 1, 1), dtype=Float32, requires_grad=True)\n",
      "Parameter (name=layer1.0.norm1.moving_mean, shape=(64,), dtype=Float32, requires_grad=False)\n",
      "Parameter (name=layer1.0.norm1.moving_variance, shape=(64,), dtype=Float32, requires_grad=False)\n",
      "Parameter (name=layer1.0.norm1.gamma, shape=(64,), dtype=Float32, requires_grad=True)\n",
      "Parameter (name=layer1.0.norm1.beta, shape=(64,), dtype=Float32, requires_grad=True)\n"
     ]
    }
   ],
   "source": [
    "# 模型参数\n",
    "for i, param in enumerate(network.get_parameters()):\n",
    "    print(param)\n",
    "    if i == 9:\n",
    "        break"
   ]
  },
  {
   "cell_type": "code",
   "execution_count": 42,
   "id": "38094552",
   "metadata": {
    "slideshow": {
     "slide_type": "subslide"
    }
   },
   "outputs": [],
   "source": [
    "# 超参数\n",
    "num_epochs = 5  # 训练epochs数\n",
    "lr = nn.cosine_decay_lr(min_lr=0.00001, max_lr=0.001, total_step=step_size_train * num_epochs,\n",
    "                        step_per_epoch=step_size_train, decay_epoch=num_epochs)  # 学习率"
   ]
  },
  {
   "cell_type": "markdown",
   "id": "fb66bfaf",
   "metadata": {
    "slideshow": {
     "slide_type": "subslide"
    }
   },
   "source": [
    "## 定义优化器和损失函数\n",
    "\n",
    "- **损失函数（loss function）**：定义模型计算结果（logits）与正确标签（targets）之间误差的计算方式\n",
    "\n",
    "根据模型和任务场景，选择合适的损失函数，如本案例属于多分类问题，适合使用交叉熵损失（CrossEntropyLoss）。其他损失函数接口可参考MindSpore官网API文档`mindspore.nn`中的[损失函数](https://www.mindspore.cn/docs/zh-CN/r2.0.0-alpha/api_python/mindspore.nn.html#%E6%8D%9F%E5%A4%B1%E5%87%BD%E6%95%B0)。"
   ]
  },
  {
   "cell_type": "code",
   "execution_count": 43,
   "id": "8b0ce15e",
   "metadata": {
    "slideshow": {
     "slide_type": "subslide"
    }
   },
   "outputs": [],
   "source": [
    "loss_fn = nn.SoftmaxCrossEntropyWithLogits(sparse=True, reduction='mean')"
   ]
  },
  {
   "cell_type": "markdown",
   "id": "f49200dd",
   "metadata": {
    "slideshow": {
     "slide_type": "subslide"
    }
   },
   "source": [
    "- **模型优化（optimization）**：在每个训练步骤中调整模型参数以减少模型误差的过程。\n",
    "\n",
    "<img src=\"./assets/resnet50_optimization.png\" width=\"800\" align=center/>\n",
    "\n",
    "MindSpore提供多种优化算法的实现，称之为**优化器（Optimizer）**。优化器内部定义了模型的参数优化过程（即梯度如何更新至模型参数），所有优化逻辑都封装在优化器对象中。在这里，我们使用Momentum优化器。\n",
    "\n",
    "我们通过`model.trainable_params()`方法获得模型的可训练参数，并传入学习率超参来初始化优化器。"
   ]
  },
  {
   "cell_type": "code",
   "execution_count": 44,
   "id": "1594b428",
   "metadata": {
    "slideshow": {
     "slide_type": "subslide"
    }
   },
   "outputs": [
    {
     "name": "stdout",
     "output_type": "stream",
     "text": [
      "Parameter (name=conv1.weight, shape=(64, 3, 7, 7), dtype=Float32, requires_grad=True)\n",
      "Parameter (name=norm.gamma, shape=(64,), dtype=Float32, requires_grad=True)\n",
      "Parameter (name=norm.beta, shape=(64,), dtype=Float32, requires_grad=True)\n",
      "Parameter (name=layer1.0.conv1.weight, shape=(64, 64, 1, 1), dtype=Float32, requires_grad=True)\n",
      "Parameter (name=layer1.0.norm1.gamma, shape=(64,), dtype=Float32, requires_grad=True)\n"
     ]
    }
   ],
   "source": [
    "opt = nn.Momentum(params=network.trainable_params(), learning_rate=lr, momentum=0.9)\n",
    "\n",
    "for i, param in enumerate(network.trainable_params()):\n",
    "    print(param)\n",
    "    if i == 4:\n",
    "        break"
   ]
  },
  {
   "cell_type": "markdown",
   "id": "d5fe3416",
   "metadata": {},
   "source": [
    "## 训练逻辑\n",
    "\n",
    "### 函数式编程（FP）\n",
    "\n",
    "MindSpore2.0采用OOP+FP混合编程，在模型训练部分使用函数式编程（FP）。\n",
    "\n",
    "$$\\text{构造函数}\\rightarrow \\text{函数变换} \\rightarrow \\text{函数调用}$$\n",
    "\n",
    "<img src=\"./assets/resnet50_fp.png\" width=\"800\" align=center/>\n",
    "\n",
    "1. Network+Loss直接构造正向函数\n",
    "2. 函数变换，获得梯度计算（反向传播）函数\n",
    "3. 构造训练过程函数\n",
    "4. 调用函数进行训练"
   ]
  },
  {
   "cell_type": "code",
   "execution_count": 45,
   "id": "3bb57a39",
   "metadata": {},
   "outputs": [],
   "source": [
    "def forward_fn(inputs, targets):\n",
    "    \"\"\"正向计算loss\"\"\"\n",
    "    logits = network(inputs)\n",
    "    loss = loss_fn(logits, targets)\n",
    "    return loss\n",
    "\n",
    "\n",
    "# 梯度计算函数\n",
    "grad_fn = ms.value_and_grad(forward_fn, None, opt.parameters)\n",
    "\n",
    "\n",
    "def train_step(inputs, targets):\n",
    "    # 反向传播，获得梯度\n",
    "    loss, grads = grad_fn(inputs, targets)\n",
    "    # 权重更新\n",
    "    opt(grads)\n",
    "    return loss"
   ]
  },
  {
   "cell_type": "markdown",
   "id": "dcc704e8",
   "metadata": {},
   "source": [
    "## 模型训练\n",
    "\n",
    "数据集遍历迭代，一次完整的数据集遍历成为一个epoch。我们逐个epoch打印训练的损失值和评估精度，并通过`save_checkpoint`保存评估精度最高的ckpt文件（resnet50-best.ckpt）到当前路径的./BestCheckPoint下。\n",
    "\n",
    "在训练中，模型会以最小化损失为目标更新模型权重，故模型状态需设置为训练`model.set_train(True)`。\n",
    "\n",
    "在评估中，仅需正向计算loss，无需更新模型参数,故模型状态需设置为训练`model.set_train(False)`。"
   ]
  },
  {
   "cell_type": "code",
   "execution_count": 46,
   "id": "26ebb43c",
   "metadata": {},
   "outputs": [],
   "source": [
    "import os\n",
    "\n",
    "# 最佳模型存储路径\n",
    "best_acc = 0\n",
    "best_ckpt_dir = \"./BestCheckpoint\"\n",
    "best_ckpt_path = \"./BestCheckpoint/resnet50-best.ckpt\"\n",
    "\n",
    "if not os.path.exists(best_ckpt_dir):\n",
    "    os.mkdir(best_ckpt_dir)"
   ]
  },
  {
   "cell_type": "code",
   "execution_count": 47,
   "id": "48950480",
   "metadata": {},
   "outputs": [],
   "source": [
    "import mindspore.ops as ops\n",
    "\n",
    "\n",
    "def train(data_loader, epoch):\n",
    "    \"\"\"模型训练\"\"\"\n",
    "    losses = []\n",
    "    network.set_train(True)\n",
    "    \n",
    "    # 遍历数据集\n",
    "    for i, (images, labels) in enumerate(data_loader):\n",
    "        loss = train_step(images, labels) # 一个step的训练\n",
    "        if i % 100 == 0 or i == step_size_train - 1:\n",
    "            print('Epoch: [%3d/%3d], Steps: [%3d/%3d], Train Loss: [%5.3f]' %\n",
    "                  (epoch + 1, num_epochs, i + 1, step_size_train, loss))\n",
    "        losses.append(loss)\n",
    "\n",
    "    return sum(losses) / len(losses)\n",
    "\n",
    "\n",
    "def evaluate(data_loader):\n",
    "    \"\"\"模型验证\"\"\"\n",
    "    network.set_train(False)\n",
    "\n",
    "    correct_num = 0.0  # 预测正确个数\n",
    "    total_num = 0.0  # 预测总数\n",
    "\n",
    "    for images, labels in data_loader:\n",
    "        logits = network(images)\n",
    "        pred = logits.argmax(axis=1)  # 预测结果\n",
    "        correct = ops.equal(pred, labels).reshape((-1, ))\n",
    "        correct_num += correct.sum().asnumpy()\n",
    "        total_num += correct.shape[0]\n",
    "\n",
    "    acc = correct_num / total_num  # =准确率\n",
    "\n",
    "    return acc"
   ]
  },
  {
   "cell_type": "code",
   "execution_count": null,
   "id": "770d8902",
   "metadata": {},
   "outputs": [],
   "source": [
    "import time\n",
    "# 开始循环训练\n",
    "print(\"Start Training Loop ...\")\n",
    "\n",
    "for epoch in range(num_epochs):\n",
    "    \n",
    "    train_start = time.time()\n",
    "    curr_loss = train(data_loader_train, epoch)\n",
    "    curr_acc = evaluate(data_loader_val)\n",
    "    train_end = time.time()\n",
    "\n",
    "    print(\"-\" * 50)\n",
    "    print(\"Epoch: [%3d/%3d], Average Train Loss: [%5.3f], Accuracy: [%5.3f], Training Time: [%5.1f]s\" % (\n",
    "        epoch+1, num_epochs, curr_loss, curr_acc, train_end - train_start\n",
    "    ))\n",
    "    print(\"-\" * 50)\n",
    "\n",
    "    # 保存当前预测准确率最高的模型\n",
    "    if curr_acc > best_acc:\n",
    "        best_acc = curr_acc\n",
    "        ms.save_checkpoint(network, best_ckpt_path)\n",
    "\n",
    "print(\"=\" * 80)\n",
    "print(f\"End of validation the best Accuracy is: {best_acc: 5.3f}, \"\n",
    "      f\"save the best ckpt file in {best_ckpt_path}\", flush=True)"
   ]
  },
  {
   "cell_type": "markdown",
   "id": "6a49158e",
   "metadata": {},
   "source": [
    "# 深度学习全流程\n",
    "\n",
    "- 数据预处理： 将图像、文本等数据处理为**可以计算的Tensor**\n",
    "- 神经网络构建： 使用框架API， 搭建神经网络\n",
    "- 模型训练： 定义模型**训练逻辑**， 遍历**训练集**进行训练\n",
    "- 模型评估： 使用训练好的模型， 在**测试集**评估效果\n",
    "- <font color=#1E77CC>模型推理： 将训练好的模型部署， 输入新数据获得预测结果<font>"
   ]
  },
  {
   "cell_type": "markdown",
   "id": "b5126a09",
   "metadata": {},
   "source": [
    "## 可视化模型推理\n",
    "\n",
    "定义`visualize_model`函数，使用上述验证精度最高的模型对CIFAR-10测试数据集进行预测，并将预测结果可视化。若预测字体颜色为蓝色表示为预测正确，预测字体颜色为红色则表示预测错误。"
   ]
  },
  {
   "cell_type": "code",
   "execution_count": null,
   "id": "e5775757",
   "metadata": {},
   "outputs": [],
   "source": [
    "import matplotlib.pyplot as plt\n",
    "\n",
    "\n",
    "def visualize_model(best_ckpt_path, dataset_val):\n",
    "    num_class = 10  # 对狼和狗图像进行二分类\n",
    "    net = resnet50(num_class)\n",
    "    # 加载模型参数\n",
    "    param_dict = ms.load_checkpoint(best_ckpt_path)\n",
    "    ms.load_param_into_net(net, param_dict)\n",
    "    # 加载验证集的数据进行验证\n",
    "    data = next(dataset_val.create_dict_iterator())\n",
    "    images = data[\"image\"]\n",
    "    labels = data[\"label\"]\n",
    "    # 预测图像类别\n",
    "    output = net(data['image'])\n",
    "    pred = np.argmax(output.asnumpy(), axis=1)\n",
    "\n",
    "    # 图像分类\n",
    "    classes = []\n",
    "\n",
    "    with open(data_dir + \"/batches.meta.txt\", \"r\") as f:\n",
    "        for line in f:\n",
    "            line = line.rstrip()\n",
    "            if line:\n",
    "                classes.append(line)\n",
    "\n",
    "    # 显示图像及图像的预测值\n",
    "    plt.figure()\n",
    "    for i in range(6):\n",
    "        plt.subplot(2, 3, i + 1)\n",
    "        # 若预测正确，显示为蓝色；若预测错误，显示为红色\n",
    "        color = 'blue' if pred[i] == labels.asnumpy()[i] else 'red'\n",
    "        plt.title('predict:{}'.format(classes[pred[i]]), color=color)\n",
    "        picture_show = np.transpose(images.asnumpy()[i], (1, 2, 0))\n",
    "        mean = np.array([0.4914, 0.4822, 0.4465])\n",
    "        std = np.array([0.2023, 0.1994, 0.2010])\n",
    "        picture_show = std * picture_show + mean\n",
    "        picture_show = np.clip(picture_show, 0, 1)\n",
    "        plt.imshow(picture_show)\n",
    "        plt.axis('off')\n",
    "\n",
    "    plt.show()\n",
    "\n",
    "\n",
    "# 使用测试数据集进行验证\n",
    "visualize_model(best_ckpt_path=best_ckpt_path, dataset_val=dataset_val)"
   ]
  },
  {
   "cell_type": "markdown",
   "id": "5621670e",
   "metadata": {},
   "source": [
    "# 计算图\n",
    "\n",
    "- **动态图： 其核心特点是计算图的构建和计算同时发生（Define by run）**\n",
    "    - **原理**： 类似Python解释器，在计算图中定义一个Tensor时，其值就已经被计算且确定了。\n",
    "    - **优点**： Pythonic语法，在调试模型时较为方便，能够实时得到中间结果的值。\n",
    "    - **缺点**： 由于所有节点都需要被保存，导致难以对整个计算图进行优化。\n",
    "\n",
    "- **静态图：将计算图的构建和实际计算分开（Define and run）**\n",
    "    - **原理**： 在构建阶段，根据完整的计算流程对原始的计算图进行优化和调整， 编译得到更省内存和计算量更少的计算图。编译之后图的结构不再改变，所以称之为 “静态图” 。 在计算阶段，根据输入数据执行编译好的计算图得到计算结果。\n",
    "    - **优点**： 静态图相比起动态图，对全局的信息掌握更丰富，可做的优化也会更多。\n",
    "    - **缺点**： 中间过程对于用户来说是个黑盒，无法像动态图一样实时拿到中间计算结果。"
   ]
  },
  {
   "cell_type": "code",
   "execution_count": 60,
   "id": "072f0c12",
   "metadata": {},
   "outputs": [
    {
     "name": "stdout",
     "output_type": "stream",
     "text": [
      "current mode = 1\n",
      "current mode is pynative mode: True\n"
     ]
    }
   ],
   "source": [
    "print(f\"current mode = {ms.get_context('mode')}\")\n",
    "print(f\"current mode is pynative mode: {ms.get_context('mode') == ms.PYNATIVE_MODE}\")"
   ]
  },
  {
   "cell_type": "markdown",
   "id": "25739650",
   "metadata": {},
   "source": [
    "# 即时编译（Just In Time, JIT）\n",
    "\n",
    "`mindspore.jit`修饰器：\n",
    "- 一行代码切换动静态图\n",
    "- 即时编译，被修饰的函数转换为整图\n",
    "\n",
    "<img src=\"./assets/resnet50_jit.png\" width=\"500\" align=center/>"
   ]
  },
  {
   "cell_type": "code",
   "execution_count": null,
   "id": "72b95abb",
   "metadata": {},
   "outputs": [],
   "source": []
  }
 ],
 "metadata": {
  "celltoolbar": "Slideshow",
  "kernelspec": {
   "display_name": "Python 3 (ipykernel)",
   "language": "python",
   "name": "python3"
  },
  "language_info": {
   "codemirror_mode": {
    "name": "ipython",
    "version": 3
   },
   "file_extension": ".py",
   "mimetype": "text/x-python",
   "name": "python",
   "nbconvert_exporter": "python",
   "pygments_lexer": "ipython3",
   "version": "3.8.13"
  }
 },
 "nbformat": 4,
 "nbformat_minor": 5
}
